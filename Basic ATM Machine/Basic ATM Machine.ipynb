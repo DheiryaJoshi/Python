{
 "cells": [
  {
   "cell_type": "code",
   "execution_count": 1,
   "id": "ad8ee1a4",
   "metadata": {},
   "outputs": [
    {
     "name": "stdout",
     "output_type": "stream",
     "text": [
      "1. Check Balance\n",
      "2. Withdraw Amount\n",
      "3. Deposit Funds\n",
      "4. Cancel/Quit\n",
      "Enter your choice from 1-4: 1\n",
      "Your balance is Rs. 100000.\n",
      "\n",
      "1. Check Balance\n",
      "2. Withdraw Amount\n",
      "3. Deposit Funds\n",
      "4. Cancel/Quit\n",
      "Enter your choice from 1-4: 2\n",
      "Enter the amount to Withdraw: Rs. 71512\n",
      "Withdraw Amount: Rs. 71512.0. Your new balance is Rs. 28488.0.\n",
      "\n",
      "1. Check Balance\n",
      "2. Withdraw Amount\n",
      "3. Deposit Funds\n",
      "4. Cancel/Quit\n",
      "Enter your choice from 1-4: 3\n",
      "Enter the amount to Deposit: Rs. 15660\n",
      "Deposited Amount: Rs. 15660.0. Your new balance is Rs. 44148.0.\n",
      "\n",
      "1. Check Balance\n",
      "2. Withdraw Amount\n",
      "3. Deposit Funds\n",
      "4. Cancel/Quit\n",
      "Enter your choice from 1-4: 4\n",
      "Thank you for using the ATM service. Have a good day.\n"
     ]
    }
   ],
   "source": [
    "balance = 100000                          #Initial balance\n",
    "\n",
    "def atm_menu():                           #defining atm menu fucntion\n",
    "    print(\"1. Check Balance\")\n",
    "    print(\"2. Withdraw Amount\")\n",
    "    print(\"3. Deposit Funds\")\n",
    "    print(\"4. Cancel/Quit\")\n",
    "    \n",
    "def check_balance():                      #defining Check balance function \n",
    "    print(f\"Your balance is Rs. {balance}.\")\n",
    "    \n",
    "def withdraw_amount(amount):              #defining Withdraw Amount function\n",
    "    global balance\n",
    "    if amount <= balance:\n",
    "        balance -= amount\n",
    "        print(f\"Withdraw Amount: Rs. {amount}. Your new balance is Rs. {balance}.\")\n",
    "    else:\n",
    "        print(f\"Insufficient Balance. Transaction cancelled.\")\n",
    "\n",
    "def Deposit_amount(amount):               #defining Deposit Amount function\n",
    "    global balance\n",
    "    balance += amount\n",
    "    print(f\"Deposited Amount: Rs. {amount}. Your new balance is Rs. {balance}.\")\n",
    "        \n",
    "def main_program():                       #defining main function\n",
    "    while True:\n",
    "        atm_menu()\n",
    "        user_input = int(input(\"Enter your choice from 1-4: \"))\n",
    "        \n",
    "        if user_input == 1:\n",
    "            check_balance()\n",
    "            print(\"\")\n",
    "        elif user_input == 2:\n",
    "            amount = float(input(\"Enter the amount to Withdraw: Rs. \"))\n",
    "            withdraw_amount(amount)\n",
    "            print(\"\")\n",
    "        elif user_input == 3:\n",
    "            amount = float(input(\"Enter the amount to Deposit: Rs. \"))\n",
    "            Deposit_amount(amount)\n",
    "            print(\"\")\n",
    "        elif user_input == 4:\n",
    "            print(\"Thank you for using the ATM service. Have a good day.\")\n",
    "            break\n",
    "            print(\"\")\n",
    "        else:\n",
    "            print(\"Invalid input. Please select a number from 1 to 4.\")\n",
    "            \n",
    "if __name__ ==\"__main__\":\n",
    "    main_program()\n",
    "    "
   ]
  },
  {
   "cell_type": "code",
   "execution_count": null,
   "id": "d841ef20",
   "metadata": {},
   "outputs": [],
   "source": []
  },
  {
   "cell_type": "code",
   "execution_count": null,
   "id": "1f3a33d1",
   "metadata": {},
   "outputs": [],
   "source": []
  },
  {
   "cell_type": "code",
   "execution_count": null,
   "id": "9b373fa0",
   "metadata": {},
   "outputs": [],
   "source": []
  },
  {
   "cell_type": "code",
   "execution_count": null,
   "id": "918a601e",
   "metadata": {},
   "outputs": [],
   "source": []
  },
  {
   "cell_type": "code",
   "execution_count": null,
   "id": "fc92b2a6",
   "metadata": {},
   "outputs": [],
   "source": []
  },
  {
   "cell_type": "code",
   "execution_count": null,
   "id": "a00630a1",
   "metadata": {},
   "outputs": [],
   "source": []
  },
  {
   "cell_type": "code",
   "execution_count": null,
   "id": "b8b8a544",
   "metadata": {},
   "outputs": [],
   "source": []
  },
  {
   "cell_type": "code",
   "execution_count": null,
   "id": "404a7ece",
   "metadata": {},
   "outputs": [],
   "source": []
  }
 ],
 "metadata": {
  "kernelspec": {
   "display_name": "Python 3 (ipykernel)",
   "language": "python",
   "name": "python3"
  },
  "language_info": {
   "codemirror_mode": {
    "name": "ipython",
    "version": 3
   },
   "file_extension": ".py",
   "mimetype": "text/x-python",
   "name": "python",
   "nbconvert_exporter": "python",
   "pygments_lexer": "ipython3",
   "version": "3.11.4"
  }
 },
 "nbformat": 4,
 "nbformat_minor": 5
}
